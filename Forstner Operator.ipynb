{
 "cells": [
  {
   "cell_type": "markdown",
   "metadata": {},
   "source": [
    "# Opérateur d'intérêt : Förstner"
   ]
  },
  {
   "cell_type": "markdown",
   "metadata": {},
   "source": [
    "L'opérateur de **Förstner** identifie également les points d’intérêt à l'aide de la matrice <code>M</code>.  \n",
    "Or, l’algorithme de Förstner est utilisé pour obtenir une solution approximative avec une précision sous-pixel. Il résout le point le plus proche de toutes les lignes tangentes du coin dans une fenêtre donnée. L'algorithme repose sur le fait que pour un coin idéal, les lignes tangentes se croisent en un seul point."
   ]
  },
  {
   "cell_type": "markdown",
   "metadata": {},
   "source": [
    "## Algorithme"
   ]
  },
  {
   "cell_type": "markdown",
   "metadata": {},
   "source": [
    "1. Conversion de l'image couleur en niveaux de gris\n",
    "2. Calcul des images du gradient <code>Ix</code> et <code>Iy</code>\n",
    "3. Calcul la matrice de variances covariances du gradient <code>M</code>\n",
    "4. Calcul des éléments de l'ellipse d'erreur pour chaque pixel <code>w</code> et <code>q</code>\n",
    "4. Calcul de la réponse de Förstner\n",
    "5. Identification des coins comme points extrêmes qui prennent les plus grandes valeurs des points candidats"
   ]
  },
  {
   "cell_type": "markdown",
   "metadata": {},
   "source": [
    "#### Étape 1 : Convertir l'image en niveaux de gris"
   ]
  },
  {
   "cell_type": "code",
   "execution_count": null,
   "metadata": {},
   "outputs": [],
   "source": [
    "from skimage.io import imread\n",
    "from skimage.color import rgb2gray\n",
    "import os\n",
    "\n",
    "os.chdir(\"C:/Users/Anass/Desktop/Corner Detector/data\")\n",
    "img = imread(\"Aerial Photo.jpg\")\n",
    "imgGray = rgb2gray(img)\n",
    "imgGray"
   ]
  },
  {
   "cell_type": "markdown",
   "metadata": {},
   "source": [
    "#### Étape 2 : Calcul des images du gradient <code>Ix</code> et <code>Iy</code>"
   ]
  },
  {
   "cell_type": "markdown",
   "metadata": {},
   "source": [
    "Le gradient peut se calculer toujours avec l'opérateur de Sobel:"
   ]
  },
  {
   "cell_type": "code",
   "execution_count": null,
   "metadata": {},
   "outputs": [],
   "source": [
    "from scipy import signal as sig\n",
    "import numpy as np\n",
    "\n",
    "def gradient_x(imgGray):\n",
    "    kernel_x = np.array([[-1, 0, 1],[-2, 0, 2],[-1, 0, 1]])\n",
    "    return sig.convolve2d(imgGray, kernel_x, mode='same')\n",
    "\n",
    "def gradient_y(imgGray):\n",
    "    kernel_y = np.array([[1, 2, 1], [0, 0, 0], [-1, -2, -1]])\n",
    "    return sig.convolve2d(imgGray, kernel_y, mode='same')\n",
    "\n",
    "I_x = gradient_x(imgGray)\n",
    "I_y = gradient_y(imgGray)"
   ]
  },
  {
   "cell_type": "markdown",
   "metadata": {},
   "source": [
    "#### Étape 3 : Calcul la matrice de variances covariances du gradient <code>M</code>"
   ]
  },
  {
   "cell_type": "code",
   "execution_count": null,
   "metadata": {},
   "outputs": [],
   "source": [
    "from scipy import ndimage as ndi\n",
    "\n",
    "# scipy.ndimage.gaussian_filter(input, sigma)\n",
    "Ixx = ndi.gaussian_filter(I_x**2, sigma=1)\n",
    "Ixy = ndi.gaussian_filter(I_y*I_x, sigma=1)\n",
    "Iyy = ndi.gaussian_filter(I_y**2, sigma=1)"
   ]
  },
  {
   "cell_type": "markdown",
   "metadata": {},
   "source": [
    "#### Étape 4 : Calcul des éléments des ellipses d'erreur <code>w</code> et <code>q</code>"
   ]
  },
  {
   "cell_type": "markdown",
   "metadata": {},
   "source": [
    "Förstner prend en compte les deux valeurs propres <code>λ1</code> et <code>λ2</code> de l'inverse de la matrice comme valeur d'intérêt. Elles définissent les axes d'une ellipse d'erreur. Par le calcul de leur taille :\n",
    "\n",
    "![img](https://i.ibb.co/kmq6DQ0/Taille-ellipse.png)\n",
    "\n",
    "Et le facteur de forme relatif à la rondeur:\n",
    "\n",
    "![img](https://i.ibb.co/cJfWYv2/Roudness.png)\n",
    "\n",
    "Les propriétés suivantes peuvent être déduites :\n",
    "* Les petites ellipses circulaires définissent un point d’intérêt\n",
    "* Les ellipses d'erreur allongées suggèrent un bord droit\n",
    "* Les grandes ellipses marquent une zone homogène\n",
    "\n",
    "Un point d'intérêt est présent si les valeurs seuils données T_w et T_q sont dépassées. Les paramètres \tappropriés pour cela se situent dans l'intervalle :\n",
    "\n",
    "![img](https://i.ibb.co/FX4gb1W/Seuils.png)"
   ]
  },
  {
   "cell_type": "code",
   "execution_count": null,
   "metadata": {},
   "outputs": [],
   "source": [
    "n,m = img.shape[0],img.shape[1]\n",
    "\n",
    "# Seuil Tq\n",
    "Tq = 0.5\n",
    "\n",
    "# Initiation de la matrice de précision w\n",
    "w = np.zeros([n,m])\n",
    "\n",
    "for i in range(1,n-2):\n",
    "    for j in range(1,m-2):\n",
    "        detM = Ixx[i,j] * Iyy[i,j] - Ixy[i,j] ** 2\n",
    "        traceM = Ixx[i,j] + Iyy[i,j]\n",
    "        q = 4 * detM / (traceM ** 2)\n",
    "        if q >= Tq:\n",
    "            w[i,j] = detM / traceM"
   ]
  },
  {
   "cell_type": "code",
   "execution_count": null,
   "metadata": {},
   "outputs": [],
   "source": [
    "# Vérification de la deuxième condition\n",
    "Wm = 0\n",
    "for i in range(0,n-1):\n",
    "    for j in range(0,m-1):\n",
    "        Wm += w[i,j]\n",
    "        \n",
    "Wm = Wm / (n * m)\n",
    "\n",
    "# Seuil Tw\n",
    "Tw = 15 * Wm"
   ]
  },
  {
   "cell_type": "markdown",
   "metadata": {},
   "source": [
    "#### Étape 5 : Calcul de la réponse de Förstner"
   ]
  },
  {
   "cell_type": "code",
   "execution_count": null,
   "metadata": {},
   "outputs": [],
   "source": [
    "# Initiation de la réponse de Forstner\n",
    "forstner_response = np.zeros([n,m])\n",
    "\n",
    "for i in range(0,n):\n",
    "    for j in range(0,m):\n",
    "        if w[i,j] >= Tw:\n",
    "            forstner_response[i,j] = 255\n",
    "        else:\n",
    "            forstner_response[i,j] = 0"
   ]
  },
  {
   "cell_type": "markdown",
   "metadata": {},
   "source": [
    "#### Étape 6 : Identification des coins comme points extrêmes qui prennent les plus grandes valeurs des points candidats"
   ]
  },
  {
   "cell_type": "code",
   "execution_count": null,
   "metadata": {},
   "outputs": [],
   "source": [
    "import matplotlib.pyplot as plt\n",
    "img_copy_for_corners = np.copy(img)\n",
    "\n",
    "for i in range(0,n):\n",
    "    for j in range(0,m):\n",
    "        if forstner_response[i,j] == 255:\n",
    "            # c'est un coin\n",
    "            img_copy_for_corners[i,j] = [255,0,0]\n",
    "\n",
    "fig, ax = plt.subplots(figsize=(17,17))\n",
    "ax.imshow(img_copy_for_corners, interpolation='nearest', cmap=plt.cm.gray)"
   ]
  },
  {
   "cell_type": "markdown",
   "metadata": {},
   "source": [
    "**Remarque** : l'algorithme identifie les régions d'intérêts. Pour trouver les coins, nous pouvons utiliser un algorithme de recherche de pic"
   ]
  },
  {
   "cell_type": "code",
   "execution_count": null,
   "metadata": {},
   "outputs": [],
   "source": [
    "import matplotlib.pyplot as plt\n",
    "from skimage.feature import corner_peaks\n",
    "\n",
    "corners = corner_peaks(forstner_response)\n",
    "fig, ax = plt.subplots(figsize=(17,17))\n",
    "ax.imshow(img, interpolation='nearest', cmap=plt.cm.gray)\n",
    "ax.plot(corners[:, 1], corners[:, 0], '.r', markersize=3)"
   ]
  }
 ],
 "metadata": {
  "kernelspec": {
   "display_name": "Python 3",
   "language": "python",
   "name": "python3"
  },
  "language_info": {
   "codemirror_mode": {
    "name": "ipython",
    "version": 3
   },
   "file_extension": ".py",
   "mimetype": "text/x-python",
   "name": "python",
   "nbconvert_exporter": "python",
   "pygments_lexer": "ipython3",
   "version": "3.7.9"
  }
 },
 "nbformat": 4,
 "nbformat_minor": 4
}
