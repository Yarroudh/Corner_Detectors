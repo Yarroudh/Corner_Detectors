{
 "cells": [
  {
   "cell_type": "markdown",
   "metadata": {},
   "source": [
    "# Opérateur d'intérêt : Harris"
   ]
  },
  {
   "cell_type": "markdown",
   "metadata": {},
   "source": [
    "L'opérateur d'intérêt **Harris** est l'un des détecteurs les plus simples utilisés pour identifier les coins des objets sur une image. \n",
    "L'idée est de localiser les **points d'intérêt** où le voisinage présente des **contours** à plusieurs directions. L'idée de base de l'algorithme est de trouver la **différence d'intensité** pour un déplacement de *(u,v)* dans toutes les directions, ce qui est exprimé comme suit :   \n",
    "\n",
    "![img](https://i.ibb.co/mB6Ck2z/Autocorrelation.png)\n",
    "\n",
    "L'équation ci-dessus peut encore être approximée en utilisant le développement de Taylor, ce qui nous donne la formule finale :\n",
    "\n",
    "![img](https://i.ibb.co/TLgJm1X/Apr-s-taylor.png)\n",
    "\n",
    "Avec\n",
    "\n",
    "![img](https://i.ibb.co/x8L6s9N/Covariance.png)\n",
    "\n",
    "Ix et Iy sont les dérivées de l'image dans les directions x et y respectivement. On peut calculer la dérivée en utilisant un filtre de gradient, ou un opérateur des contours (Sobel par exemple).\n",
    "\n",
    "Finalement, nous trouvons la fonction de Harris R donnée par :\n",
    "\n",
    "![img](https://opencv-python-tutroals.readthedocs.io/en/latest/_images/math/8499c5fd1fb4572f17432043824392ba87e027e6.png)\n",
    "\n",
    "Avec\n",
    "\n",
    "* ![img](https://opencv-python-tutroals.readthedocs.io/en/latest/_images/math/cf85281c57f753fa4f883455cc85bed7cdbfaab3.png)  \n",
    "* ![img](https://opencv-python-tutroals.readthedocs.io/en/latest/_images/math/1eb05457094cbdec3f8d3e505b87a184e3ed8121.png)  \n",
    "* Les lambdas sont les valeurs propres de <code>M</code>\n",
    "* <code>k</code> est le facteur de sensibilité pour séparer les coins des bords, typiquement une valeur proche de zéro\n",
    "\n",
    "Nous trouvons les coins en utilisant la valeur de <code>R</code> :\n",
    "\n",
    "![img](https://i.ibb.co/1Qy5qrZ/Reponse-harris.png)"
   ]
  },
  {
   "cell_type": "markdown",
   "metadata": {},
   "source": [
    "## Algorithme de détection des points d'intérêts : Harris"
   ]
  },
  {
   "cell_type": "markdown",
   "metadata": {},
   "source": [
    "1. Conversion de l'image couleur en niveaux de gris\n",
    "2. Calcul des images du gradient <code>Ix</code> et <code>Iy</code>\n",
    "3. Calcul la matrice de variances covariances du gradient <code>M</code>\n",
    "4. Calcul de la réponse de Harris <code>R</code>\n",
    "5. Identification des contours et des coins en analysant <code>R</code>"
   ]
  },
  {
   "cell_type": "markdown",
   "metadata": {},
   "source": [
    "#### Étape 1 : Convertir l'image en niveaux de gris"
   ]
  },
  {
   "cell_type": "code",
   "execution_count": null,
   "metadata": {
    "jupyter": {
     "source_hidden": true
    }
   },
   "outputs": [],
   "source": [
    "!pip3 install scikit-image"
   ]
  },
  {
   "cell_type": "code",
   "execution_count": null,
   "metadata": {},
   "outputs": [],
   "source": [
    "from skimage.io import imread\n",
    "from skimage.color import rgb2gray\n",
    "import os\n",
    "\n",
    "os.chdir(\"C:/Users/Anass/Desktop/Corner Detector/Data\")\n",
    "img = imread(\"Aerial Photo.jpg\")\n",
    "imgGray = rgb2gray(img)\n",
    "imgGray"
   ]
  },
  {
   "cell_type": "markdown",
   "metadata": {},
   "source": [
    "#### Étape 2 : Calcul des images du gradient <code>Ix</code> et <code>Iy</code>"
   ]
  },
  {
   "cell_type": "markdown",
   "metadata": {},
   "source": [
    "Le calcul du gradient peut se faire facilement à l'aide du filtre de Sobel, un opérateur utilisé en traitement d'image pour la détection de contours. Il utilise les matrices de convolution:\n",
    "\n",
    "![img](https://i.ibb.co/n61Jr6J/Filtre-Sobel.png)\n",
    "\n",
    "Avec\n",
    "* <code>A</code> l'image source\n",
    "* <code>Ix</code> gradient horizontal\n",
    "* <code>Iy</code> gradient vertical"
   ]
  },
  {
   "cell_type": "code",
   "execution_count": null,
   "metadata": {},
   "outputs": [],
   "source": [
    "from scipy import signal as sig\n",
    "import numpy as np\n",
    "\n",
    "def gradient_x(imgGray):\n",
    "    kernel_x = np.array([[-1, 0, 1],[-2, 0, 2],[-1, 0, 1]])\n",
    "    return sig.convolve2d(imgGray, kernel_x, mode='same')\n",
    "\n",
    "def gradient_y(imgGray):\n",
    "    kernel_y = np.array([[1, 2, 1], [0, 0, 0], [-1, -2, -1]])\n",
    "    return sig.convolve2d(imgGray, kernel_y, mode='same')\n",
    "\n",
    "I_x = gradient_x(imgGray)\n",
    "I_y = gradient_y(imgGray)"
   ]
  },
  {
   "cell_type": "markdown",
   "metadata": {},
   "source": [
    "#### Étape 3 : Calcul la matrice de variances covariances du gradient <code>M</code>"
   ]
  },
  {
   "cell_type": "code",
   "execution_count": null,
   "metadata": {},
   "outputs": [],
   "source": [
    "from scipy import ndimage as ndi\n",
    "\n",
    "# scipy.ndimage.gaussian_filter(input, sigma)\n",
    "Ixx = ndi.gaussian_filter(I_x**2, sigma=1)\n",
    "Ixy = ndi.gaussian_filter(I_y*I_x, sigma=1)\n",
    "Iyy = ndi.gaussian_filter(I_y**2, sigma=1)"
   ]
  },
  {
   "cell_type": "markdown",
   "metadata": {},
   "source": [
    "#### Étape 4 : Calcul de la réponse de Harris <code>R</code>"
   ]
  },
  {
   "cell_type": "code",
   "execution_count": null,
   "metadata": {},
   "outputs": [],
   "source": [
    "k = 0.04\n",
    "\n",
    "# déterminant\n",
    "\n",
    "detM = Ixx * Iyy - Ixy ** 2\n",
    "\n",
    "# trace\n",
    "traceM = Ixx + Iyy\n",
    "    \n",
    "harris_response = detM - k * traceM ** 2\n",
    "harris_response"
   ]
  },
  {
   "cell_type": "markdown",
   "metadata": {},
   "source": [
    "Les petites valeurs de <code>k</code> entraînent la détection des angles aigus. La réponse <code>R</code> est un tableau de pics de chaque ligne de l'image. Nous pouvons utiliser ces valeurs de crête pour isoler les coins et les bords."
   ]
  },
  {
   "cell_type": "markdown",
   "metadata": {},
   "source": [
    "#### Étape 5 : Identification des bords et des coins en utilisant <code>R</code>"
   ]
  },
  {
   "cell_type": "markdown",
   "metadata": {},
   "source": [
    "* Contour : <code>R</code> < 0\n",
    "* Coin : <code>R</code> > 0\n",
    "* PLat : <code>R</code> = 0"
   ]
  },
  {
   "cell_type": "code",
   "execution_count": null,
   "metadata": {},
   "outputs": [],
   "source": [
    "img_copy_for_corners = np.copy(img)\n",
    "img_copy_for_edges = np.copy(img)\n",
    "\n",
    "for i, response in enumerate(harris_response):\n",
    "    for j, r in enumerate(response):\n",
    "        if r > 0.01:\n",
    "            # c'est un coin\n",
    "            img_copy_for_corners[i, j] = [255,0,0]\n",
    "        elif r < -0.05:\n",
    "            # c'est un contour\n",
    "            img_copy_for_edges[i, j] = [0,255,0]"
   ]
  },
  {
   "cell_type": "code",
   "execution_count": null,
   "metadata": {},
   "outputs": [],
   "source": [
    "import matplotlib.pyplot as plt\n",
    "\n",
    "fig, ax = plt.subplots(figsize=(17,17))\n",
    "ax.imshow(img_copy_for_corners, interpolation='nearest', cmap=plt.cm.gray)"
   ]
  },
  {
   "cell_type": "markdown",
   "metadata": {},
   "source": [
    "**Remarque** : l'algorithme identifie les régions d'intérêts. Pour trouver les coins, nous pouvons utiliser un algorithme de recherche de pic"
   ]
  },
  {
   "cell_type": "code",
   "execution_count": null,
   "metadata": {},
   "outputs": [],
   "source": [
    "import matplotlib.pyplot as plt\n",
    "from skimage.feature import corner_peaks\n",
    "\n",
    "corners = corner_peaks(harris_response)\n",
    "fig, ax = plt.subplots(figsize=(17,17))\n",
    "ax.imshow(img, interpolation='nearest', cmap=plt.cm.gray)\n",
    "ax.plot(corners[:, 1], corners[:, 0], '.r', markersize=10)"
   ]
  }
 ],
 "metadata": {
  "kernelspec": {
   "display_name": "Python 3",
   "language": "python",
   "name": "python3"
  },
  "language_info": {
   "codemirror_mode": {
    "name": "ipython",
    "version": 3
   },
   "file_extension": ".py",
   "mimetype": "text/x-python",
   "name": "python",
   "nbconvert_exporter": "python",
   "pygments_lexer": "ipython3",
   "version": "3.7.9"
  }
 },
 "nbformat": 4,
 "nbformat_minor": 4
}
